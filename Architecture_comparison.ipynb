{
 "cells": [
  {
   "cell_type": "code",
   "execution_count": 3,
   "id": "initial_id",
   "metadata": {
    "collapsed": true,
    "ExecuteTime": {
     "end_time": "2023-11-08T19:08:02.633782Z",
     "start_time": "2023-11-08T19:08:02.626802Z"
    }
   },
   "outputs": [],
   "source": [
    "import gymnasium as gym\n",
    "import matplotlib.pyplot as plt\n",
    "import numpy as np\n",
    "from tqdm import tqdm\n",
    "\n",
    "from src.Agent import PPOAgent\n",
    "from src.OptimizerParameters import AdamOptimizerParameters"
   ]
  },
  {
   "cell_type": "code",
   "execution_count": null,
   "outputs": [
    {
     "name": "stderr",
     "output_type": "stream",
     "text": [
      "0it [00:00, ?it/s]"
     ]
    }
   ],
   "source": [
    "# General Hyperparams\n",
    "gamma = 0.99\n",
    "lmbda = 0.925\n",
    "epsilon = 0.2  \n",
    "num_policy_epochs = 5\n",
    "num_value_epochs = 5\n",
    "num_multihead_epochs = 5\n",
    "smoothing_const = 1e-8\n",
    "normalize_advantages = True\n",
    "batch_size = 32\n",
    "shuffle_batches = True\n",
    "max_game_length = 500\n",
    "num_episodes = 40\n",
    "\n",
    "env = gym.make(id='CartPole-v1', max_episode_steps=max_game_length)\n",
    "input_dim = env.observation_space.shape[0]\n",
    "output_dim = env.action_space.n\n",
    "\n",
    "# Optimizer Hyperparams\n",
    "policy_optimizer_parameters = AdamOptimizerParameters(lr=0.005, betas=(0.9, 0.999), weight_decay=0)\n",
    "value_optimizer_parameters = AdamOptimizerParameters(lr=0.005, betas=(0.9, 0.999), weight_decay=0)\n",
    "multihead_optimizer_parameters = AdamOptimizerParameters(lr=0.005, betas=(0.9, 0.999), weight_decay=0)\n",
    "\n",
    "\n",
    "\n",
    "agent_1_avg_rewards, agent_2_avg_rewards = [], []\n",
    "\n",
    "N_SEEDS = 50\n",
    "for idx, rng_seed in tqdm(enumerate(np.random.randint(low=0,high=10000,size=N_SEEDS).tolist())):\n",
    "    architecture_1 = \"Individual Networks\"\n",
    "    Agent_1  = PPOAgent(env=env,\n",
    "                        state_space_size=input_dim,\n",
    "                        action_space_size=output_dim,\n",
    "                        gamma=gamma,\n",
    "                        lmbda=lmbda,\n",
    "                        epsilon=epsilon,\n",
    "                        smooting_const=smoothing_const,\n",
    "                        normalize_advantages=normalize_advantages,\n",
    "                        batch_size=batch_size,\n",
    "                        shuffle_batches = shuffle_batches,\n",
    "                        architecture=architecture_1,\n",
    "                        seed=rng_seed)\n",
    "    avg_accumulated_rewards_1, _, _ = Agent_1.train(episodes=num_episodes,\n",
    "                                                    num_policy_epochs=num_policy_epochs,\n",
    "                                                    num_value_epochs=num_value_epochs,\n",
    "                                                    policy_optimizer_params=policy_optimizer_parameters,\n",
    "                                                    value_optimizer_params=value_optimizer_parameters,\n",
    "                                                    verbose=False)\n",
    "    agent_1_avg_rewards.append(avg_accumulated_rewards_1)\n",
    "    \n",
    "    \n",
    "    architecture_2 = \"Multi Head Network\"\n",
    "    Agent_2  = PPOAgent(env=env,\n",
    "                        state_space_size=input_dim,\n",
    "                        action_space_size=output_dim,\n",
    "                        gamma=gamma,\n",
    "                        lmbda=lmbda,\n",
    "                        epsilon=epsilon,\n",
    "                        smooting_const=smoothing_const,\n",
    "                        normalize_advantages=normalize_advantages,\n",
    "                        batch_size=batch_size,\n",
    "                        shuffle_batches = shuffle_batches,\n",
    "                        architecture=architecture_2,\n",
    "                        seed=rng_seed)\n",
    "    avg_accumulated_rewards_2, _ = Agent_2.train(episodes=num_episodes,\n",
    "                                                 num_multihead_epochs=num_multihead_epochs,\n",
    "                                                 multihead_optimizer_params=multihead_optimizer_parameters,\n",
    "                                                 verbose=False)\n",
    "    agent_2_avg_rewards.append(avg_accumulated_rewards_2)\n"
   ],
   "metadata": {
    "collapsed": false,
    "is_executing": true,
    "ExecuteTime": {
     "start_time": "2023-11-08T19:08:02.635491Z"
    }
   },
   "id": "51aeec6679be4891"
  },
  {
   "cell_type": "code",
   "execution_count": null,
   "outputs": [],
   "source": [],
   "metadata": {
    "collapsed": false,
    "is_executing": true
   },
   "id": "9fe9b2d7efd3ddee"
  },
  {
   "cell_type": "code",
   "execution_count": null,
   "outputs": [],
   "source": [
    "individual_rewards_avg = np.array(agent_1_avg_rewards)\n",
    "multihead_rewards_avg = np.array(agent_2_avg_rewards)\n",
    "\n",
    "individual_avg = np.mean(individual_rewards_avg,axis=0)\n",
    "individual_stddev = np.std(individual_rewards_avg,axis=0)\n",
    "\n",
    "multihead_avg = np.mean(multihead_rewards_avg,axis=0)\n",
    "multihead_stddev = np.std(multihead_rewards_avg, axis=0)"
   ],
   "metadata": {
    "collapsed": false,
    "is_executing": true
   },
   "id": "df870d6f34788fee"
  },
  {
   "cell_type": "code",
   "execution_count": null,
   "outputs": [],
   "source": [
    "plt.rc(\"font\", family=[\"Helvetica\", \"Arial\"])\n",
    "plt.rc(\"text\", usetex=True)\n",
    "plt.rc(\"xtick\", top=True, direction=\"in\")\n",
    "plt.rc(\"ytick\", right=True, direction=\"in\")\n",
    "\n",
    "fig, ax = plt.subplots(1,1,figsize=(10,5))\n",
    "ax.plot([e+1 for e in range(num_episodes)], individual_avg, label='Individual networks')\n",
    "ax.plot([e+1 for e in range(num_episodes)], multihead_avg, label='Multi-head network')\n",
    "ax.fill_between([e+1 for e in range(num_episodes)], individual_avg-individual_stddev, individual_avg+individual_stddev, alpha=0.2)\n",
    "ax.fill_between([e+1 for e in range(num_episodes)], multihead_avg-multihead_stddev, multihead_avg+multihead_stddev, alpha=0.2)\n",
    "ax.legend(loc='upper left', fontsize=20)\n",
    "ax.set_xlabel('Episode',size=18)\n",
    "ax.set_ylabel('Average Accumulated Rewards',size=18)\n",
    "plt.tight_layout()\n",
    "plt.savefig('Comparison_2.pdf')\n",
    "plt.show()"
   ],
   "metadata": {
    "collapsed": false,
    "is_executing": true
   },
   "id": "9046c5f1224e5be3"
  },
  {
   "cell_type": "code",
   "execution_count": null,
   "outputs": [],
   "source": [],
   "metadata": {
    "collapsed": false,
    "is_executing": true
   },
   "id": "34b5053afd136130"
  }
 ],
 "metadata": {
  "kernelspec": {
   "display_name": "Python 3",
   "language": "python",
   "name": "python3"
  },
  "language_info": {
   "codemirror_mode": {
    "name": "ipython",
    "version": 2
   },
   "file_extension": ".py",
   "mimetype": "text/x-python",
   "name": "python",
   "nbconvert_exporter": "python",
   "pygments_lexer": "ipython2",
   "version": "2.7.6"
  }
 },
 "nbformat": 4,
 "nbformat_minor": 5
}
