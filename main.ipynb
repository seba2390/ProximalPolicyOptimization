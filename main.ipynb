{
 "cells": [
  {
   "cell_type": "code",
   "execution_count": 97,
   "id": "initial_id",
   "metadata": {
    "collapsed": true,
    "ExecuteTime": {
     "end_time": "2023-11-07T14:54:00.553683800Z",
     "start_time": "2023-11-07T14:54:00.544975500Z"
    }
   },
   "outputs": [],
   "source": [
    "import gymnasium as gym\n",
    "import matplotlib.pyplot as plt\n",
    "\n",
    "from src.Agent import PPOAgent"
   ]
  },
  {
   "cell_type": "code",
   "execution_count": 98,
   "outputs": [],
   "source": [
    "rng_seed = 0\n",
    "env = gym.make('CartPole-v1')\n",
    "\n",
    "input_dim = env.observation_space.shape[0]\n",
    "output_dim = env.action_space.n\n",
    "\n",
    "gamma = 0.99\n",
    "lmbda = 0.925\n",
    "epsilon = 0.2  \n",
    "policy_lr = 0.001\n",
    "value_lr = 0.001\n",
    "num_policy_epochs = 5\n",
    "num_value_epochs = 5\n",
    "smoothing_const = 1e-8\n",
    "normalize_advantages = True\n",
    "batch_size = 32\n",
    "shuffle_batches = False\n",
    "\n",
    "Agent = PPOAgent(env=env,\n",
    "                 state_space_size=input_dim,\n",
    "                 action_space_size=output_dim,\n",
    "                 gamma=gamma,\n",
    "                 lmbda=lmbda,\n",
    "                 epsilon=epsilon,\n",
    "                 smooting_const=smoothing_const,\n",
    "                 normalize_advantages=normalize_advantages,\n",
    "                 batch_size=batch_size,\n",
    "                 shuffle_batches = shuffle_batches,\n",
    "                 seed=rng_seed)"
   ],
   "metadata": {
    "collapsed": false,
    "ExecuteTime": {
     "end_time": "2023-11-07T14:54:00.560936Z",
     "start_time": "2023-11-07T14:54:00.549489100Z"
    }
   },
   "id": "7453114a18179ff3"
  },
  {
   "cell_type": "code",
   "execution_count": 99,
   "outputs": [
    {
     "name": "stdout",
     "output_type": "stream",
     "text": [
      "####################################\n",
      "# --- Survived for: 11 episodes --- #\n",
      "####################################\n"
     ]
    }
   ],
   "source": [
    "# Trying to interact w. env. before training\n",
    "Agent.play(render=False)"
   ],
   "metadata": {
    "collapsed": false,
    "ExecuteTime": {
     "end_time": "2023-11-07T14:54:00.578256200Z",
     "start_time": "2023-11-07T14:54:00.556699300Z"
    }
   },
   "id": "806da1ca6de0d5e6"
  },
  {
   "cell_type": "code",
   "execution_count": 100,
   "outputs": [
    {
     "name": "stderr",
     "output_type": "stream",
     "text": [
      "100%|██████████| 181/181 [05:50<00:00,  1.94s/it]\n"
     ]
    }
   ],
   "source": [
    "num_episodes = 181\n",
    "accumulated_reward = Agent.train(episodes=num_episodes,\n",
    "                                 policy_lr=policy_lr,\n",
    "                                 value_lr=value_lr,\n",
    "                                 num_policy_epochs=num_policy_epochs,\n",
    "                                 num_value_epochs=num_value_epochs)"
   ],
   "metadata": {
    "collapsed": false,
    "ExecuteTime": {
     "end_time": "2023-11-07T14:59:51.692399600Z",
     "start_time": "2023-11-07T14:54:00.561936100Z"
    }
   },
   "id": "3d5da7a8366ef4a6"
  },
  {
   "cell_type": "code",
   "execution_count": 101,
   "outputs": [
    {
     "data": {
      "text/plain": "<Figure size 600x300 with 1 Axes>",
      "image/png": "[encoded data removed]"
     },
     "metadata": {},
     "output_type": "display_data"
    }
   ],
   "source": [
    "fig, ax = plt.subplots(1,1, figsize=(6,3))\n",
    "ax.plot([e for e in range(len(accumulated_reward))], accumulated_reward)\n",
    "ax.set_xlabel('Episodes')\n",
    "ax.set_ylabel('Accumulated Reward')\n",
    "plt.show()"
   ],
   "metadata": {
    "collapsed": false,
    "ExecuteTime": {
     "end_time": "2023-11-07T14:59:51.762462600Z",
     "start_time": "2023-11-07T14:59:51.693404100Z"
    }
   },
   "id": "7c16c60286408ffb"
  },
  {
   "cell_type": "code",
   "execution_count": 102,
   "outputs": [
    {
     "name": "stdout",
     "output_type": "stream",
     "text": [
      "####################################\n",
      "# --- Survived for: 4080 episodes --- #\n",
      "####################################\n"
     ]
    }
   ],
   "source": [
    "# Trying to interact w. env. after training\n",
    "Agent.play(render=False)"
   ],
   "metadata": {
    "collapsed": false,
    "ExecuteTime": {
     "end_time": "2023-11-07T14:59:51.933158800Z",
     "start_time": "2023-11-07T14:59:51.759765600Z"
    }
   },
   "id": "ef1be68ab58d878f"
  },
  {
   "cell_type": "code",
   "execution_count": 102,
   "outputs": [],
   "source": [],
   "metadata": {
    "collapsed": false,
    "ExecuteTime": {
     "end_time": "2023-11-07T14:59:51.934202900Z",
     "start_time": "2023-11-07T14:59:51.929696100Z"
    }
   },
   "id": "541957411c58e1e9"
  }
 ],
 "metadata": {
  "kernelspec": {
   "display_name": "Python 3",
   "language": "python",
   "name": "python3"
  },
  "language_info": {
   "codemirror_mode": {
    "name": "ipython",
    "version": 2
   },
   "file_extension": ".py",
   "mimetype": "text/x-python",
   "name": "python",
   "nbconvert_exporter": "python",
   "pygments_lexer": "ipython2",
   "version": "2.7.6"
  }
 },
 "nbformat": 4,
 "nbformat_minor": 5
}
